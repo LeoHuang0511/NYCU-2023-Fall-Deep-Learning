{
 "cells": [
  {
   "cell_type": "code",
   "execution_count": 1,
   "metadata": {},
   "outputs": [
    {
     "name": "stderr",
     "output_type": "stream",
     "text": [
      "/Users/leo/MasterDegree/Courses/DL/dl_env/lib/python3.9/site-packages/urllib3/__init__.py:34: NotOpenSSLWarning: urllib3 v2.0 only supports OpenSSL 1.1.1+, currently the 'ssl' module is compiled with 'LibreSSL 2.8.3'. See: https://github.com/urllib3/urllib3/issues/3020\n",
      "  warnings.warn(\n",
      "/Users/leo/MasterDegree/Courses/DL/dl_env/lib/python3.9/site-packages/tqdm/auto.py:21: TqdmWarning: IProgress not found. Please update jupyter and ipywidgets. See https://ipywidgets.readthedocs.io/en/stable/user_install.html\n",
      "  from .autonotebook import tqdm as notebook_tqdm\n"
     ]
    }
   ],
   "source": [
    "import tensorflow as tf\n",
    "import tensorflow_datasets as tfds\n"
   ]
  },
  {
   "cell_type": "code",
   "execution_count": 2,
   "metadata": {},
   "outputs": [],
   "source": [
    "(train_data, test_data), info = tfds.load('mnist',\n",
    "                                      split=['train', 'test'],\n",
    "                                      shuffle_files=True,\n",
    "                                      as_supervised=True,\n",
    "                                      with_info=True)\n"
   ]
  },
  {
   "cell_type": "code",
   "execution_count": 3,
   "metadata": {},
   "outputs": [],
   "source": [
    "BATCH_SIZE = 128\n",
    "\n",
    "\n",
    "def parse_fn(image, label):\n",
    "    x = tf.cast(image, tf.float32) / 255.\n",
    "    y = label\n",
    "    return x, y\n",
    "\n",
    "\n",
    "train_data = train_data.shuffle(info.splits['train'].num_examples)\n",
    "train_data = train_data.batch(BATCH_SIZE)\n",
    "train_data = train_data.map(parse_fn, num_parallel_calls=tf.data.AUTOTUNE)\n",
    "train_data = train_data.cache()\n",
    "train_data = train_data.prefetch(tf.data.AUTOTUNE)\n",
    "\n",
    "test_data = test_data.batch(BATCH_SIZE)\n",
    "test_data = test_data.map(parse_fn, num_parallel_calls=tf.data.AUTOTUNE)\n",
    "test_data = test_data.cache()\n",
    "test_data = test_data.prefetch(tf.data.AUTOTUNE)\n"
   ]
  },
  {
   "cell_type": "code",
   "execution_count": 4,
   "metadata": {},
   "outputs": [
    {
     "name": "stderr",
     "output_type": "stream",
     "text": [
      "WARNING:absl:At this time, the v2.11+ optimizer `tf.keras.optimizers.Adam` runs slowly on M1/M2 Macs, please use the legacy Keras optimizer instead, located at `tf.keras.optimizers.legacy.Adam`.\n"
     ]
    }
   ],
   "source": [
    "# L2_REG = 1e-4\n",
    "L2_REG = 0\n",
    "\n",
    "KERNEL_SIZE = 3\n",
    "STRIDE_SIZE = 1\n",
    "\n",
    "model = tf.keras.Sequential([\n",
    "    tf.keras.layers.Input(shape=info.features['image'].shape),  # type: ignore\n",
    "    tf.keras.layers.Conv2D(filters=8,\n",
    "                           kernel_size=KERNEL_SIZE,\n",
    "                           strides=STRIDE_SIZE,\n",
    "                           activation='relu',\n",
    "                           kernel_regularizer=tf.keras.regularizers.l2(L2_REG)),\n",
    "    tf.keras.layers.Conv2D(filters=4,\n",
    "                           kernel_size=KERNEL_SIZE,\n",
    "                           strides=STRIDE_SIZE,\n",
    "                           activation='relu',\n",
    "                           kernel_regularizer=tf.keras.regularizers.l2(L2_REG)),\n",
    "    tf.keras.layers.Flatten(),\n",
    "    tf.keras.layers.Dense(10,\n",
    "                          kernel_regularizer=tf.keras.regularizers.l2(L2_REG)),\n",
    "])\n",
    "\n",
    "model.compile(\n",
    "    optimizer=tf.keras.optimizers.Adam(0.001),\n",
    "    loss=tf.keras.losses.SparseCategoricalCrossentropy(from_logits=True),\n",
    "    metrics=[tf.keras.metrics.SparseCategoricalAccuracy()],\n",
    ")\n"
   ]
  },
  {
   "cell_type": "code",
   "execution_count": 5,
   "metadata": {},
   "outputs": [],
   "source": [
    "import os\n",
    "\n",
    "logdir = os.path.join(\n",
    "    'logs',\n",
    "    'mnist',\n",
    "    f'filter_{KERNEL_SIZE}_stride_{STRIDE_SIZE}_l2_{L2_REG}',\n",
    ")\n",
    "os.makedirs(logdir, exist_ok=True)"
   ]
  },
  {
   "cell_type": "code",
   "execution_count": 6,
   "metadata": {},
   "outputs": [
    {
     "name": "stdout",
     "output_type": "stream",
     "text": [
      "Model: \"sequential\"\n",
      "_________________________________________________________________\n",
      " Layer (type)                Output Shape              Param #   \n",
      "=================================================================\n",
      " conv2d (Conv2D)             (None, 26, 26, 8)         80        \n",
      "                                                                 \n",
      " conv2d_1 (Conv2D)           (None, 24, 24, 4)         292       \n",
      "                                                                 \n",
      " flatten (Flatten)           (None, 2304)              0         \n",
      "                                                                 \n",
      " dense (Dense)               (None, 10)                23050     \n",
      "                                                                 \n",
      "=================================================================\n",
      "Total params: 23422 (91.49 KB)\n",
      "Trainable params: 23422 (91.49 KB)\n",
      "Non-trainable params: 0 (0.00 Byte)\n",
      "_________________________________________________________________\n"
     ]
    }
   ],
   "source": [
    "with open(os.path.join(logdir, 'model.json'), 'w', encoding='utf-8') as f:\n",
    "    print(model.to_json(), file=f)\n",
    "\n",
    "\n",
    "def log_summary(string):\n",
    "    print(string)\n",
    "    with open(os.path.join(logdir, 'summary.txt'), 'a', encoding='utf-8') as f:\n",
    "        print(string, file=f)\n",
    "\n",
    "\n",
    "model.summary(print_fn=log_summary)"
   ]
  },
  {
   "cell_type": "code",
   "execution_count": 7,
   "metadata": {},
   "outputs": [
    {
     "name": "stdout",
     "output_type": "stream",
     "text": [
      "Epoch 1/10\n",
      "469/469 [==============================] - 5s 8ms/step - loss: 0.3944 - sparse_categorical_accuracy: 0.8905 - val_loss: 0.2113 - val_sparse_categorical_accuracy: 0.9377\n",
      "Epoch 2/10\n",
      "469/469 [==============================] - 3s 7ms/step - loss: 0.1646 - sparse_categorical_accuracy: 0.9519 - val_loss: 0.1308 - val_sparse_categorical_accuracy: 0.9611\n",
      "Epoch 3/10\n",
      "469/469 [==============================] - 4s 8ms/step - loss: 0.1137 - sparse_categorical_accuracy: 0.9668 - val_loss: 0.1002 - val_sparse_categorical_accuracy: 0.9700\n",
      "Epoch 4/10\n",
      "469/469 [==============================] - 5s 10ms/step - loss: 0.0889 - sparse_categorical_accuracy: 0.9738 - val_loss: 0.0801 - val_sparse_categorical_accuracy: 0.9753\n",
      "Epoch 5/10\n",
      "469/469 [==============================] - 7s 16ms/step - loss: 0.0725 - sparse_categorical_accuracy: 0.9783 - val_loss: 0.0696 - val_sparse_categorical_accuracy: 0.9777\n",
      "Epoch 6/10\n",
      "469/469 [==============================] - 7s 14ms/step - loss: 0.0611 - sparse_categorical_accuracy: 0.9816 - val_loss: 0.0648 - val_sparse_categorical_accuracy: 0.9796\n",
      "Epoch 7/10\n",
      "469/469 [==============================] - 7s 15ms/step - loss: 0.0534 - sparse_categorical_accuracy: 0.9843 - val_loss: 0.0619 - val_sparse_categorical_accuracy: 0.9803\n",
      "Epoch 8/10\n",
      "469/469 [==============================] - 7s 15ms/step - loss: 0.0475 - sparse_categorical_accuracy: 0.9859 - val_loss: 0.0604 - val_sparse_categorical_accuracy: 0.9808\n",
      "Epoch 9/10\n",
      "469/469 [==============================] - 7s 15ms/step - loss: 0.0430 - sparse_categorical_accuracy: 0.9874 - val_loss: 0.0597 - val_sparse_categorical_accuracy: 0.9807\n",
      "Epoch 10/10\n",
      "469/469 [==============================] - 8s 16ms/step - loss: 0.0391 - sparse_categorical_accuracy: 0.9886 - val_loss: 0.0594 - val_sparse_categorical_accuracy: 0.9810\n"
     ]
    },
    {
     "data": {
      "text/plain": [
       "<keras.src.callbacks.History at 0x161b9cd90>"
      ]
     },
     "execution_count": 7,
     "metadata": {},
     "output_type": "execute_result"
    }
   ],
   "source": [
    "tensorboard_callback = tf.keras.callbacks.TensorBoard(\n",
    "    log_dir=logdir,\n",
    "    histogram_freq=1,\n",
    "    write_graph=True,\n",
    ")\n",
    "\n",
    "model.fit(\n",
    "    train_data,\n",
    "    epochs=10,\n",
    "    validation_data=test_data,\n",
    "    callbacks=[tensorboard_callback],\n",
    ")\n"
   ]
  },
  {
   "cell_type": "code",
   "execution_count": 11,
   "metadata": {},
   "outputs": [
    {
     "name": "stdout",
     "output_type": "stream",
     "text": [
      "pred: 2, label: 2\n"
     ]
    },
    {
     "data": {
      "image/png": "[encoded data removed]",
      "text/plain": [
       "<Figure size 640x480 with 1 Axes>"
      ]
     },
     "metadata": {},
     "output_type": "display_data"
    }
   ],
   "source": [
    "import matplotlib.pyplot as plt\n",
    "\n",
    "for data, label in test_data.unbatch():\n",
    "    preds = model(data[tf.newaxis, ...])[0]\n",
    "    pred = tf.argmax(preds).numpy()\n",
    "    label = label.numpy()\n",
    "\n",
    "    if pred == label:\n",
    "        print(f'pred: {pred}, label: {label}')\n",
    "        plt.imshow(data.numpy(), cmap='gray')\n",
    "        break\n",
    "\n"
   ]
  },
  {
   "cell_type": "code",
   "execution_count": 12,
   "metadata": {},
   "outputs": [
    {
     "name": "stdout",
     "output_type": "stream",
     "text": [
      "pred: 2, label: 7\n"
     ]
    },
    {
     "data": {
      "image/png": "[encoded data removed]",
      "text/plain": [
       "<Figure size 640x480 with 1 Axes>"
      ]
     },
     "metadata": {},
     "output_type": "display_data"
    }
   ],
   "source": [
    "for data, label in test_data.unbatch():\n",
    "    preds = model(data[tf.newaxis, ...])[0]\n",
    "    pred = tf.argmax(preds).numpy()\n",
    "    label = label.numpy()\n",
    "\n",
    "    if pred != label:\n",
    "        print(f'pred: {pred}, label: {label}')\n",
    "        plt.imshow(data.numpy(), cmap='gray')\n",
    "        break"
   ]
  },
  {
   "cell_type": "code",
   "execution_count": 10,
   "metadata": {},
   "outputs": [
    {
     "name": "stdout",
     "output_type": "stream",
     "text": [
      "6\n",
      "conv2d\n",
      "(1, 26, 26, 8)\n"
     ]
    },
    {
     "data": {
      "image/png": "[encoded data removed]",
      "text/plain": [
       "<Figure size 640x480 with 1 Axes>"
      ]
     },
     "metadata": {},
     "output_type": "display_data"
    },
    {
     "data": {
      "image/png": "[encoded data removed]",
      "text/plain": [
       "<Figure size 1000x1000 with 8 Axes>"
      ]
     },
     "metadata": {},
     "output_type": "display_data"
    },
    {
     "name": "stdout",
     "output_type": "stream",
     "text": [
      "conv2d_1\n",
      "(1, 24, 24, 4)\n"
     ]
    },
    {
     "data": {
      "image/png": "[encoded data removed]",
      "text/plain": [
       "<Figure size 1000x1000 with 4 Axes>"
      ]
     },
     "metadata": {},
     "output_type": "display_data"
    }
   ],
   "source": [
    "sample_data, sample_label = next(iter(train_data.unbatch().take(1)))\n",
    "sample_data = sample_data[tf.newaxis, ...]\n",
    "plt.imshow(sample_data.numpy().squeeze(), cmap='gray')\n",
    "print(sample_label.numpy())\n",
    "\n",
    "features = {}\n",
    "for layer in model.layers:\n",
    "    sample_data = layer(sample_data)\n",
    "    if 'conv2d' in layer.name:\n",
    "        features.update({layer.name: sample_data})\n",
    "\n",
    "for name, feature in features.items():\n",
    "    print(name)\n",
    "    print(feature.shape)\n",
    "\n",
    "    figure = plt.figure(figsize=(10, 10))\n",
    "    for i in range(feature.shape[-1]):\n",
    "        ax = figure.add_subplot(1, feature.shape[-1], i + 1)\n",
    "        ax.imshow(feature[0, :, :, i].numpy(), cmap='gray')\n",
    "        ax.axis('off')\n",
    "    plt.show()\n"
   ]
  },
  {
   "cell_type": "code",
   "execution_count": null,
   "metadata": {},
   "outputs": [],
   "source": []
  }
 ],
 "metadata": {
  "kernelspec": {
   "display_name": "Python 3.10.6 ('dl-hw2')",
   "language": "python",
   "name": "python3"
  },
  "language_info": {
   "codemirror_mode": {
    "name": "ipython",
    "version": 3
   },
   "file_extension": ".py",
   "mimetype": "text/x-python",
   "name": "python",
   "nbconvert_exporter": "python",
   "pygments_lexer": "ipython3",
   "version": "3.9.6"
  },
  "orig_nbformat": 4,
  "vscode": {
   "interpreter": {
    "hash": "9340feaedc0ba7dc470917c52803b4ba17714809ed33171f54617c22fd28f3ff"
   }
  }
 },
 "nbformat": 4,
 "nbformat_minor": 2
}
